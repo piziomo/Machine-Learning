{
  "nbformat": 4,
  "nbformat_minor": 0,
  "metadata": {
    "colab": {
      "provenance": [],
      "gpuType": "T4",
      "include_colab_link": true
    },
    "kernelspec": {
      "name": "python3",
      "display_name": "Python 3"
    },
    "language_info": {
      "name": "python"
    },
    "accelerator": "GPU"
  },
  "cells": [
    {
      "cell_type": "markdown",
      "metadata": {
        "id": "view-in-github",
        "colab_type": "text"
      },
      "source": [
        "<a href=\"https://colab.research.google.com/github/piziomo/Machine-Learning/blob/main/CNN/cnn_mnist_pytorch.ipynb\" target=\"_parent\"><img src=\"https://colab.research.google.com/assets/colab-badge.svg\" alt=\"Open In Colab\"/></a>"
      ]
    },
    {
      "cell_type": "markdown",
      "source": [
        "\n",
        "# Building a Convolutional Neural Network with PyTorch\n",
        "By [Fayyaz Minhas](https://sites.google.com/view/fayyaz/home)\n",
        "\n",
        "\n",
        "Welcome to this tutorial on building a Convolutional Neural Network (CNN) using PyTorch for digit recognition on the MNIST dataset. This guide is designed to walk you through the process step-by-step, from setting up the dataset to training and evaluating the model. Whether you're new to deep learning or looking to refine your skills, this tutorial offers insights into the practical application of CNNs using one of the most popular deep learning frameworks.\n",
        "\n",
        "## Introduction to the MNIST Dataset\n",
        "The MNIST dataset is a classic in the field of machine learning, consisting of 70,000 grayscale images of handwritten digits (0 through 9). Each image is 28x28 pixels, and the task is to classify these images into the correct digit. It's widely used for benchmarking classification algorithms.\n",
        "\n",
        "## Setting Up the Environment\n",
        "We begin by importing necessary libraries and configuring the device to use for training. We'll use CUDA if available, allowing us to take advantage of GPU acceleration for faster training:"
      ],
      "metadata": {
        "id": "RimP3seg-vqI"
      }
    },
    {
      "cell_type": "code",
      "source": [
        "import torch\n",
        "import torch.nn as nn\n",
        "import torchvision\n",
        "import torchvision.transforms as transforms\n",
        "\n",
        "device = torch.device('cuda:0' if torch.cuda.is_available() else 'cpu')\n"
      ],
      "metadata": {
        "id": "ahUuOcM2_BX4"
      },
      "execution_count": null,
      "outputs": []
    },
    {
      "cell_type": "markdown",
      "source": [
        "## Hyperparameters and Data Loading\n",
        "Next, we define our hyperparameters and load the MNIST dataset. PyTorch's torchvision module makes it easy to download and load the MNIST dataset with minimal effort. We also set up data loaders for batching and shuffling:"
      ],
      "metadata": {
        "id": "O6uLrBt5_D3l"
      }
    },
    {
      "cell_type": "code",
      "execution_count": null,
      "metadata": {
        "id": "sFzy9dNm98Wl",
        "outputId": "38d54028-2cb3-4493-b971-057845f69852",
        "colab": {
          "base_uri": "https://localhost:8080/"
        }
      },
      "outputs": [
        {
          "output_type": "stream",
          "name": "stdout",
          "text": [
            "Downloading http://yann.lecun.com/exdb/mnist/train-images-idx3-ubyte.gz\n",
            "Downloading http://yann.lecun.com/exdb/mnist/train-images-idx3-ubyte.gz to ../../data/MNIST/raw/train-images-idx3-ubyte.gz\n"
          ]
        },
        {
          "output_type": "stream",
          "name": "stderr",
          "text": [
            "100%|██████████| 9912422/9912422 [00:00<00:00, 171620329.26it/s]"
          ]
        },
        {
          "output_type": "stream",
          "name": "stdout",
          "text": [
            "Extracting ../../data/MNIST/raw/train-images-idx3-ubyte.gz to ../../data/MNIST/raw\n"
          ]
        },
        {
          "output_type": "stream",
          "name": "stderr",
          "text": [
            "\n"
          ]
        },
        {
          "output_type": "stream",
          "name": "stdout",
          "text": [
            "\n",
            "Downloading http://yann.lecun.com/exdb/mnist/train-labels-idx1-ubyte.gz\n",
            "Downloading http://yann.lecun.com/exdb/mnist/train-labels-idx1-ubyte.gz to ../../data/MNIST/raw/train-labels-idx1-ubyte.gz\n"
          ]
        },
        {
          "output_type": "stream",
          "name": "stderr",
          "text": [
            "100%|██████████| 28881/28881 [00:00<00:00, 94785362.93it/s]\n"
          ]
        },
        {
          "output_type": "stream",
          "name": "stdout",
          "text": [
            "Extracting ../../data/MNIST/raw/train-labels-idx1-ubyte.gz to ../../data/MNIST/raw\n",
            "\n",
            "Downloading http://yann.lecun.com/exdb/mnist/t10k-images-idx3-ubyte.gz\n",
            "Downloading http://yann.lecun.com/exdb/mnist/t10k-images-idx3-ubyte.gz to ../../data/MNIST/raw/t10k-images-idx3-ubyte.gz\n"
          ]
        },
        {
          "output_type": "stream",
          "name": "stderr",
          "text": [
            "100%|██████████| 1648877/1648877 [00:00<00:00, 39256250.37it/s]\n"
          ]
        },
        {
          "output_type": "stream",
          "name": "stdout",
          "text": [
            "Extracting ../../data/MNIST/raw/t10k-images-idx3-ubyte.gz to ../../data/MNIST/raw\n",
            "\n",
            "Downloading http://yann.lecun.com/exdb/mnist/t10k-labels-idx1-ubyte.gz\n",
            "Downloading http://yann.lecun.com/exdb/mnist/t10k-labels-idx1-ubyte.gz to ../../data/MNIST/raw/t10k-labels-idx1-ubyte.gz\n"
          ]
        },
        {
          "output_type": "stream",
          "name": "stderr",
          "text": [
            "100%|██████████| 4542/4542 [00:00<00:00, 17445539.16it/s]\n"
          ]
        },
        {
          "output_type": "stream",
          "name": "stdout",
          "text": [
            "Extracting ../../data/MNIST/raw/t10k-labels-idx1-ubyte.gz to ../../data/MNIST/raw\n",
            "\n"
          ]
        }
      ],
      "source": [
        "import torch\n",
        "import torch.nn as nn\n",
        "import torchvision\n",
        "import torchvision.transforms as transforms\n",
        "\n",
        "\n",
        "# Device configuration\n",
        "device = torch.device('cuda:0' if torch.cuda.is_available() else 'cpu')\n",
        "\n",
        "# Hyper parameters\n",
        "num_epochs = 5\n",
        "num_classes = 10\n",
        "batch_size = 100\n",
        "learning_rate = 0.001\n",
        "\n",
        "# MNIST dataset\n",
        "train_dataset = torchvision.datasets.MNIST(root='../../data/',\n",
        "                                           train=True,\n",
        "                                           transform=transforms.ToTensor(),\n",
        "                                           download=True)\n",
        "\n",
        "test_dataset = torchvision.datasets.MNIST(root='../../data/',\n",
        "                                          train=False,\n",
        "                                          transform=transforms.ToTensor())\n",
        "\n",
        "# Data loader\n",
        "train_loader = torch.utils.data.DataLoader(dataset=train_dataset,\n",
        "                                           batch_size=batch_size,\n",
        "                                           shuffle=True)\n",
        "\n",
        "test_loader = torch.utils.data.DataLoader(dataset=test_dataset,\n",
        "                                          batch_size=batch_size,\n",
        "                                          shuffle=False)\n"
      ]
    },
    {
      "cell_type": "markdown",
      "source": [
        "## Building the CNN Model\n",
        "Our CNN model consists of two convolutional layers, each followed by batch normalization, a ReLU activation function, and max pooling. The output is then passed through a fully connected layer to produce the class scores:"
      ],
      "metadata": {
        "id": "Xhm2yYL-_X8q"
      }
    },
    {
      "cell_type": "code",
      "source": [
        "\n",
        "# Convolutional neural network (two convolutional layers)\n",
        "class ConvNet(nn.Module):\n",
        "    def __init__(self, num_classes=10):\n",
        "        super(ConvNet, self).__init__()\n",
        "        self.layer1 = nn.Sequential(\n",
        "            nn.Conv2d(1, 16, kernel_size=5, stride=1, padding=2),\n",
        "            #nn.BatchNorm2d(16),\n",
        "            nn.ReLU(),\n",
        "            nn.MaxPool2d(kernel_size=2, stride=2))\n",
        "        self.layer2 = nn.Sequential(\n",
        "            nn.Conv2d(16, 32, kernel_size=5, stride=1, padding=2),\n",
        "            #nn.BatchNorm2d(32),\n",
        "            nn.ReLU(),\n",
        "            nn.MaxPool2d(kernel_size=2, stride=2))\n",
        "        self.fc = nn.Linear(7*7*32, num_classes)\n",
        "\n",
        "    def forward(self, x):\n",
        "        out = self.layer1(x)\n",
        "        out = self.layer2(out)\n",
        "        out = out.reshape(out.size(0), -1)\n",
        "        out = self.fc(out)\n",
        "        return out"
      ],
      "metadata": {
        "id": "5N-hlLBs_Vov"
      },
      "execution_count": null,
      "outputs": []
    },
    {
      "cell_type": "markdown",
      "source": [
        "## Training the Model\n",
        "We train the model using a loop that iterates over our dataset for a given number of epochs. In each epoch, we perform a forward pass, calculate the loss, and update the model's weights with backpropagation:"
      ],
      "metadata": {
        "id": "UJz05kF8_isF"
      }
    },
    {
      "cell_type": "code",
      "source": [
        "\n",
        "model = ConvNet(num_classes).to(device)\n",
        "\n",
        "# Loss and optimizer\n",
        "criterion = nn.CrossEntropyLoss()\n",
        "optimizer = torch.optim.Adam(model.parameters(), lr=learning_rate)\n",
        "\n",
        "# Train the model\n",
        "total_step = len(train_loader)\n",
        "for epoch in range(num_epochs):\n",
        "    for i, (images, labels) in enumerate(train_loader):\n",
        "        images = images.to(device)\n",
        "        labels = labels.to(device)\n",
        "\n",
        "        # Forward pass\n",
        "        outputs = model(images)\n",
        "        loss = criterion(outputs, labels)\n",
        "\n",
        "        # Backward and optimize\n",
        "        optimizer.zero_grad()\n",
        "        loss.backward()\n",
        "        optimizer.step()\n",
        "\n",
        "        if (i+1) % 100 == 0:\n",
        "            print ('Epoch [{}/{}], Step [{}/{}], Loss: {:.4f}'\n",
        "                   .format(epoch+1, num_epochs, i+1, total_step, loss.item()))"
      ],
      "metadata": {
        "colab": {
          "base_uri": "https://localhost:8080/"
        },
        "id": "wCOLI-Jo_qWk",
        "outputId": "5d998c08-1cc2-4f0b-9ab6-be98454875ee"
      },
      "execution_count": null,
      "outputs": [
        {
          "output_type": "stream",
          "name": "stdout",
          "text": [
            "Epoch [1/5], Step [100/600], Loss: 0.3231\n",
            "Epoch [1/5], Step [200/600], Loss: 0.1250\n",
            "Epoch [1/5], Step [300/600], Loss: 0.2113\n",
            "Epoch [1/5], Step [400/600], Loss: 0.1108\n",
            "Epoch [1/5], Step [500/600], Loss: 0.1025\n",
            "Epoch [1/5], Step [600/600], Loss: 0.0819\n",
            "Epoch [2/5], Step [100/600], Loss: 0.0867\n",
            "Epoch [2/5], Step [200/600], Loss: 0.1607\n",
            "Epoch [2/5], Step [300/600], Loss: 0.0108\n",
            "Epoch [2/5], Step [400/600], Loss: 0.0506\n",
            "Epoch [2/5], Step [500/600], Loss: 0.0272\n",
            "Epoch [2/5], Step [600/600], Loss: 0.0141\n",
            "Epoch [3/5], Step [100/600], Loss: 0.0611\n",
            "Epoch [3/5], Step [200/600], Loss: 0.0301\n",
            "Epoch [3/5], Step [300/600], Loss: 0.1263\n",
            "Epoch [3/5], Step [400/600], Loss: 0.0465\n",
            "Epoch [3/5], Step [500/600], Loss: 0.0181\n",
            "Epoch [3/5], Step [600/600], Loss: 0.0177\n",
            "Epoch [4/5], Step [100/600], Loss: 0.0196\n",
            "Epoch [4/5], Step [200/600], Loss: 0.0116\n",
            "Epoch [4/5], Step [300/600], Loss: 0.0270\n",
            "Epoch [4/5], Step [400/600], Loss: 0.0335\n",
            "Epoch [4/5], Step [500/600], Loss: 0.0094\n",
            "Epoch [4/5], Step [600/600], Loss: 0.0816\n",
            "Epoch [5/5], Step [100/600], Loss: 0.0564\n",
            "Epoch [5/5], Step [200/600], Loss: 0.0465\n",
            "Epoch [5/5], Step [300/600], Loss: 0.0270\n",
            "Epoch [5/5], Step [400/600], Loss: 0.0078\n",
            "Epoch [5/5], Step [500/600], Loss: 0.0118\n",
            "Epoch [5/5], Step [600/600], Loss: 0.0105\n"
          ]
        }
      ]
    },
    {
      "cell_type": "markdown",
      "source": [
        "## Evaluating the Model\n",
        "After training, we evaluate the model's performance on the test set to calculate its accuracy:"
      ],
      "metadata": {
        "id": "--l0_qaO_keL"
      }
    },
    {
      "cell_type": "code",
      "source": [
        "model.eval()\n",
        "with torch.no_grad():\n",
        "    correct = 0\n",
        "    total = 0\n",
        "    for images, labels in test_loader:\n",
        "        images = images.to(device)\n",
        "        labels = labels.to(device)\n",
        "        outputs = model(images)\n",
        "        _, predicted = torch.max(outputs.data, 1)\n",
        "        total += labels.size(0)\n",
        "        correct += (predicted == labels).sum().item()\n",
        "\n",
        "    print('Test Accuracy of the model on the 10000 test images: {} %'.format(100 * correct / total))\n"
      ],
      "metadata": {
        "colab": {
          "base_uri": "https://localhost:8080/"
        },
        "id": "v1h_fYDM_xrH",
        "outputId": "44b53f87-cbda-483b-f703-027161d16565"
      },
      "execution_count": null,
      "outputs": [
        {
          "output_type": "stream",
          "name": "stdout",
          "text": [
            "Test Accuracy of the model on the 10000 test images: 98.82 %\n"
          ]
        }
      ]
    },
    {
      "cell_type": "markdown",
      "source": [
        "## Saving the Model\n",
        "Finally, we save the trained model for future use:"
      ],
      "metadata": {
        "id": "gpmpRnQU_1jm"
      }
    },
    {
      "cell_type": "code",
      "source": [
        "torch.save(model.state_dict(), 'model.ckpt')\n"
      ],
      "metadata": {
        "id": "IWNT6JyM_5v1"
      },
      "execution_count": null,
      "outputs": []
    },
    {
      "cell_type": "markdown",
      "source": [
        "This tutorial has guided you through the process of building, training, and evaluating a CNN with PyTorch on the MNIST dataset. With this foundation, you're well-equipped to tackle more complex image classification tasks and explore deeper CNN architectures.\n",
        "\n",
        "\n",
        "\n",
        "\n"
      ],
      "metadata": {
        "id": "JvgxgwdE_6AM"
      }
    }
  ]
}